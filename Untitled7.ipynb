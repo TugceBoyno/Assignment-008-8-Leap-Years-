{
  "nbformat": 4,
  "nbformat_minor": 0,
  "metadata": {
    "colab": {
      "name": "Untitled7.ipynb",
      "provenance": [],
      "authorship_tag": "ABX9TyO+fKOjqjGqk0N+uFbr1Dbc",
      "include_colab_link": true
    },
    "kernelspec": {
      "name": "python3",
      "display_name": "Python 3"
    },
    "language_info": {
      "name": "python"
    }
  },
  "cells": [
    {
      "cell_type": "markdown",
      "metadata": {
        "id": "view-in-github",
        "colab_type": "text"
      },
      "source": [
        "<a href=\"https://colab.research.google.com/github/TugceBoyno/Assignment-008-8-Leap-Years-/blob/main/Untitled7.ipynb\" target=\"_parent\"><img src=\"https://colab.research.google.com/assets/colab-badge.svg\" alt=\"Open In Colab\"/></a>"
      ]
    },
    {
      "cell_type": "code",
      "metadata": {
        "colab": {
          "base_uri": "https://localhost:8080/"
        },
        "id": "ruQlxynegu3v",
        "outputId": "c4d9e497-c8d0-4491-aebb-84c5496e461b"
      },
      "source": [
        "year = int(input('Please enter the year: '))\n",
        "if (year % 4) == 0:\n",
        "   if (year % 100) == 0:\n",
        "       if (year % 400) == 0:\n",
        "           print(\"{} is a leap year\".format(year))\n",
        "       else:\n",
        "           print(\"{} is not a leap year\".format(year))\n",
        "   else:\n",
        "       print(\"{} is a leap year\".format(year))\n",
        "else:\n",
        "   print(\"{} is not a leap year\".format(year))"
      ],
      "execution_count": 4,
      "outputs": [
        {
          "output_type": "stream",
          "text": [
            "Please enter the year: 1800\n",
            "1800 is not a leap year\n"
          ],
          "name": "stdout"
        }
      ]
    }
  ]
}